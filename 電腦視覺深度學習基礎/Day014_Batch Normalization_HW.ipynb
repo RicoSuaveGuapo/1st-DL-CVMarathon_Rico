{
  "nbformat": 4,
  "nbformat_minor": 0,
  "metadata": {
    "kernelspec": {
      "display_name": "Python 3",
      "language": "python",
      "name": "python3"
    },
    "language_info": {
      "codemirror_mode": {
        "name": "ipython",
        "version": 3
      },
      "file_extension": ".py",
      "mimetype": "text/x-python",
      "name": "python",
      "nbconvert_exporter": "python",
      "pygments_lexer": "ipython3",
      "version": "3.6.7"
    },
    "colab": {
      "name": "Day014_Batch Normalization_HW.ipynb",
      "provenance": [],
      "collapsed_sections": []
    }
  },
  "cells": [
    {
      "cell_type": "markdown",
      "metadata": {
        "id": "DXme0_s3ANfR",
        "colab_type": "text"
      },
      "source": [
        "## 『本次練習內容』\n",
        "#### 搭建 Conv2D-BN-Activation層\n"
      ]
    },
    {
      "cell_type": "markdown",
      "metadata": {
        "id": "_-iQi7nPANfT",
        "colab_type": "text"
      },
      "source": [
        "## 『本次練習目的』\n",
        "  #### 了解如何搭建CNN基礎架構，Conv2D-BN-Activation"
      ]
    },
    {
      "cell_type": "code",
      "metadata": {
        "id": "XYltvwBdANfT",
        "colab_type": "code",
        "colab": {
          "base_uri": "https://localhost:8080/",
          "height": 35
        },
        "outputId": "eb2666ce-8c3b-45be-c179-3853e598e9cd"
      },
      "source": [
        "from keras.models import Sequential  #用來啟動 NN\n",
        "from keras.layers import Conv2D  # Convolution Operation\n",
        "from keras.layers import MaxPooling2D # Pooling\n",
        "from keras.layers import Flatten\n",
        "from keras.layers import Dense # Fully Connected Networks\n",
        "from keras.layers import BatchNormalization\n",
        "from keras.layers import Activation"
      ],
      "execution_count": 1,
      "outputs": [
        {
          "output_type": "stream",
          "text": [
            "Using TensorFlow backend.\n"
          ],
          "name": "stderr"
        }
      ]
    },
    {
      "cell_type": "markdown",
      "metadata": {
        "id": "G5SjO0OaANfX",
        "colab_type": "text"
      },
      "source": [
        "## 依照指示建立模型"
      ]
    },
    {
      "cell_type": "code",
      "metadata": {
        "id": "H7XP11sfANfY",
        "colab_type": "code",
        "colab": {}
      },
      "source": [
        "input_shape = (32, 32, 3)\n",
        "\n",
        "model = Sequential()\n",
        "\n",
        "##  Conv2D-BN-Activation('sigmoid') \n",
        "\n",
        "#BatchNormalization主要參數：\n",
        "#momentum: Momentum for the moving mean and the moving variance.\n",
        "#epsilon: Small float added to variance to avoid dividing by zero.\n",
        "\n",
        "model.add(Conv2D(32, kernel_size=(3,3), padding='same', input_shape=input_shape))\n",
        "model.add(BatchNormalization(momentum=0.5, epsilon=0.001)) \n",
        "model.add(Activation('sigmoid'))\n",
        "\n",
        "\n",
        "##、 Conv2D-BN-Activation('relu')\n",
        "model.add(Conv2D(64, kernel_size=(3,3), padding='same'))\n",
        "model.add(BatchNormalization(momentum=0.5, epsilon=0.001)) \n",
        "model.add(Activation('sigmoid'))"
      ],
      "execution_count": 0,
      "outputs": []
    },
    {
      "cell_type": "code",
      "metadata": {
        "id": "qRbVyhrkANfc",
        "colab_type": "code",
        "colab": {
          "base_uri": "https://localhost:8080/",
          "height": 364
        },
        "outputId": "bbf26776-0546-4646-8309-1b39972a5719"
      },
      "source": [
        "model.summary()"
      ],
      "execution_count": 9,
      "outputs": [
        {
          "output_type": "stream",
          "text": [
            "Model: \"sequential_6\"\n",
            "_________________________________________________________________\n",
            "Layer (type)                 Output Shape              Param #   \n",
            "=================================================================\n",
            "conv2d_9 (Conv2D)            (None, 32, 32, 32)        896       \n",
            "_________________________________________________________________\n",
            "batch_normalization_8 (Batch (None, 32, 32, 32)        128       \n",
            "_________________________________________________________________\n",
            "activation_7 (Activation)    (None, 32, 32, 32)        0         \n",
            "_________________________________________________________________\n",
            "conv2d_10 (Conv2D)           (None, 32, 32, 64)        18496     \n",
            "_________________________________________________________________\n",
            "batch_normalization_9 (Batch (None, 32, 32, 64)        256       \n",
            "_________________________________________________________________\n",
            "activation_8 (Activation)    (None, 32, 32, 64)        0         \n",
            "=================================================================\n",
            "Total params: 19,776\n",
            "Trainable params: 19,584\n",
            "Non-trainable params: 192\n",
            "_________________________________________________________________\n"
          ],
          "name": "stdout"
        }
      ]
    },
    {
      "cell_type": "code",
      "metadata": {
        "id": "xyckJJdQDhcY",
        "colab_type": "code",
        "colab": {}
      },
      "source": [
        ""
      ],
      "execution_count": 0,
      "outputs": []
    }
  ]
}