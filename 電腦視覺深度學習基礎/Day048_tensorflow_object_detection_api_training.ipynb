{
 "cells": [
  {
   "cell_type": "markdown",
   "metadata": {},
   "source": [
    "# 將自己的 google drive 空間 mount 到 colab 環境\n",
    "\n",
    "- 若在 colab 環境，請執行下面程式，點開連結及選取自己的 gmail，將許可碼拷貝貼在格子裡"
   ]
  },
  {
   "cell_type": "code",
   "execution_count": null,
   "metadata": {},
   "outputs": [],
   "source": [
    "from google.colab import drive\n",
    "drive.mount('/content/gdrive')"
   ]
  },
  {
   "cell_type": "markdown",
   "metadata": {},
   "source": [
    "# 安裝相關套件"
   ]
  },
  {
   "cell_type": "code",
   "execution_count": 1,
   "metadata": {
    "tags": []
   },
   "outputs": [
    {
     "output_type": "stream",
     "name": "stdout",
     "text": "Defaulting to user installation because normal site-packages is not writeable\nRequirement already satisfied: contextlib2 in /home/rico-li/.local/lib/python2.7/site-packages (0.6.0.post1)\nDefaulting to user installation because normal site-packages is not writeable\nCollecting pycocotools\n  Cloning https://github.com/philferriere/cocoapi.git to /tmp/pip-install-3mdvdV/pycocotools\nBuilding wheels for collected packages: pycocotools\n  Building wheel for pycocotools (setup.py) ... \u001b[?25ldone\n\u001b[?25h  Created wheel for pycocotools: filename=pycocotools-2.0-cp27-cp27mu-linux_x86_64.whl size=139135 sha256=2b4ffcf50476fb67c815830675290106782519348eeeb3b177869c9c19ef391e\n  Stored in directory: /tmp/pip-ephem-wheel-cache-WZJ6UH/wheels/72/d6/19/422d4897cdeba15cf0f491a9353b556651a65da43f6510f84d\nSuccessfully built pycocotools\nInstalling collected packages: pycocotools\nSuccessfully installed pycocotools-2.0\nDefaulting to user installation because normal site-packages is not writeable\nCollecting toolz\n  Downloading toolz-0.10.0.tar.gz (49 kB)\n\u001b[K     |████████████████████████████████| 49 kB 808 kB/s \n\u001b[?25hBuilding wheels for collected packages: toolz\n  Building wheel for toolz (setup.py) ... \u001b[?25ldone\n\u001b[?25h  Created wheel for toolz: filename=toolz-0.10.0-py2-none-any.whl size=55573 sha256=be23c508ed457940202fd736a56236e5bef33a140c67ac44c5a1cdbb02bd7187\n  Stored in directory: /home/rico-li/.cache/pip/wheels/be/61/47/7646faed0f0cb2f31a08e02c394ba9d6c0b15dcd0d63db2686\nSuccessfully built toolz\nInstalling collected packages: toolz\nSuccessfully installed toolz-0.10.0\n"
    }
   ],
   "source": [
    "!pip install contextlib2\n",
    "!pip install \"git+https://github.com/philferriere/cocoapi.git#egg=pycocotools&subdirectory=PythonAPI\"\n",
    "!pip install toolz --upgrade"
   ]
  },
  {
   "cell_type": "markdown",
   "metadata": {},
   "source": [
    "# 設定環境\n",
    "\n",
    "- 由於 colab 每個 notebook 環境皆獨立，必須重新安裝套件"
   ]
  },
  {
   "cell_type": "code",
   "execution_count": null,
   "metadata": {},
   "outputs": [],
   "source": [
    "%cd /content/gdrive/My\\ Drive/models/research\n",
    "!mkdir train eval\n",
    "#%set_env PYTHONPATH=`pwd`:`pwd`/slim"
   ]
  },
  {
   "cell_type": "code",
   "execution_count": null,
   "metadata": {},
   "outputs": [],
   "source": [
    "!python setup.py install"
   ]
  },
  {
   "cell_type": "code",
   "execution_count": null,
   "metadata": {},
   "outputs": [],
   "source": [
    "%cd slim\n",
    "!python setup.py install\n",
    "%cd .."
   ]
  },
  {
   "cell_type": "markdown",
   "metadata": {},
   "source": [
    "# 下載資料 (pets) ; 將資料轉換成 tfrecord\n",
    "\n",
    "- 除了 pets, 也可以下載 coco / open images / pascal VOC 資料集並用已經提供的 tfrecord 轉換工具作轉換\n",
    "    - 轉換程式在 `object_detection/dataset_tools/` 裡\n",
    "- 也可以用定義自己的資料集及資料格式，再客製轉換程式將資料轉換成 tfrecord"
   ]
  },
  {
   "cell_type": "code",
   "execution_count": 2,
   "metadata": {
    "tags": [
     "outputPrepend"
    ]
   },
   "outputs": [
    {
     "output_type": "stream",
     "name": "stdout",
     "text": "er_84.png\nannotations/trimaps/._wheaten_terrier_85.png\nannotations/trimaps/wheaten_terrier_85.png\nannotations/trimaps/._wheaten_terrier_86.png\nannotations/trimaps/wheaten_terrier_86.png\nannotations/trimaps/._wheaten_terrier_87.png\nannotations/trimaps/wheaten_terrier_87.png\nannotations/trimaps/._wheaten_terrier_88.png\nannotations/trimaps/wheaten_terrier_88.png\nannotations/trimaps/._wheaten_terrier_89.png\nannotations/trimaps/wheaten_terrier_89.png\nannotations/trimaps/._wheaten_terrier_9.png\nannotations/trimaps/wheaten_terrier_9.png\nannotations/trimaps/._wheaten_terrier_90.png\nannotations/trimaps/wheaten_terrier_90.png\nannotations/trimaps/._wheaten_terrier_91.png\nannotations/trimaps/wheaten_terrier_91.png\nannotations/trimaps/._wheaten_terrier_92.png\nannotations/trimaps/wheaten_terrier_92.png\nannotations/trimaps/._wheaten_terrier_93.png\nannotations/trimaps/wheaten_terrier_93.png\nannotations/trimaps/._wheaten_terrier_94.png\nannotations/trimaps/wheaten_terrier_94.png\nannotations/trimaps/._wheaten_terrier_95.png\nannotations/trimaps/wheaten_terrier_95.png\nannotations/trimaps/._wheaten_terrier_96.png\nannotations/trimaps/wheaten_terrier_96.png\nannotations/trimaps/._wheaten_terrier_97.png\nannotations/trimaps/wheaten_terrier_97.png\nannotations/trimaps/._wheaten_terrier_98.png\nannotations/trimaps/wheaten_terrier_98.png\nannotations/trimaps/._wheaten_terrier_99.png\nannotations/trimaps/wheaten_terrier_99.png\nannotations/trimaps/._yorkshire_terrier_1.png\nannotations/trimaps/yorkshire_terrier_1.png\nannotations/trimaps/._yorkshire_terrier_10.png\nannotations/trimaps/yorkshire_terrier_10.png\nannotations/trimaps/._yorkshire_terrier_100.png\nannotations/trimaps/yorkshire_terrier_100.png\nannotations/trimaps/._yorkshire_terrier_101.png\nannotations/trimaps/yorkshire_terrier_101.png\nannotations/trimaps/._yorkshire_terrier_102.png\nannotations/trimaps/yorkshire_terrier_102.png\nannotations/trimaps/._yorkshire_terrier_103.png\nannotations/trimaps/yorkshire_terrier_103.png\nannotations/trimaps/._yorkshire_terrier_104.png\nannotations/trimaps/yorkshire_terrier_104.png\nannotations/trimaps/._yorkshire_terrier_105.png\nannotations/trimaps/yorkshire_terrier_105.png\nannotations/trimaps/._yorkshire_terrier_106.png\nannotations/trimaps/yorkshire_terrier_106.png\nannotations/trimaps/._yorkshire_terrier_107.png\nannotations/trimaps/yorkshire_terrier_107.png\nannotations/trimaps/._yorkshire_terrier_108.png\nannotations/trimaps/yorkshire_terrier_108.png\nannotations/trimaps/._yorkshire_terrier_109.png\nannotations/trimaps/yorkshire_terrier_109.png\nannotations/trimaps/._yorkshire_terrier_11.png\nannotations/trimaps/yorkshire_terrier_11.png\nannotations/trimaps/._yorkshire_terrier_110.png\nannotations/trimaps/yorkshire_terrier_110.png\nannotations/trimaps/._yorkshire_terrier_111.png\nannotations/trimaps/yorkshire_terrier_111.png\nannotations/trimaps/._yorkshire_terrier_112.png\nannotations/trimaps/yorkshire_terrier_112.png\nannotations/trimaps/._yorkshire_terrier_113.png\nannotations/trimaps/yorkshire_terrier_113.png\nannotations/trimaps/._yorkshire_terrier_114.png\nannotations/trimaps/yorkshire_terrier_114.png\nannotations/trimaps/._yorkshire_terrier_115.png\nannotations/trimaps/yorkshire_terrier_115.png\nannotations/trimaps/._yorkshire_terrier_116.png\nannotations/trimaps/yorkshire_terrier_116.png\nannotations/trimaps/._yorkshire_terrier_117.png\nannotations/trimaps/yorkshire_terrier_117.png\nannotations/trimaps/._yorkshire_terrier_118.png\nannotations/trimaps/yorkshire_terrier_118.png\nannotations/trimaps/._yorkshire_terrier_119.png\nannotations/trimaps/yorkshire_terrier_119.png\nannotations/trimaps/._yorkshire_terrier_12.png\nannotations/trimaps/yorkshire_terrier_12.png\nannotations/trimaps/._yorkshire_terrier_120.png\nannotations/trimaps/yorkshire_terrier_120.png\nannotations/trimaps/._yorkshire_terrier_121.png\nannotations/trimaps/yorkshire_terrier_121.png\nannotations/trimaps/._yorkshire_terrier_122.png\nannotations/trimaps/yorkshire_terrier_122.png\nannotations/trimaps/._yorkshire_terrier_123.png\nannotations/trimaps/yorkshire_terrier_123.png\nannotations/trimaps/._yorkshire_terrier_124.png\nannotations/trimaps/yorkshire_terrier_124.png\nannotations/trimaps/._yorkshire_terrier_125.png\nannotations/trimaps/yorkshire_terrier_125.png\nannotations/trimaps/._yorkshire_terrier_126.png\nannotations/trimaps/yorkshire_terrier_126.png\nannotations/trimaps/._yorkshire_terrier_127.png\nannotations/trimaps/yorkshire_terrier_127.png\nannotations/trimaps/._yorkshire_terrier_128.png\nannotations/trimaps/yorkshire_terrier_128.png\nannotations/trimaps/._yorkshire_terrier_129.png\nannotations/trimaps/yorkshire_terrier_129.png\nannotations/trimaps/._yorkshire_terrier_13.png\nannotations/trimaps/yorkshire_terrier_13.png\nannotations/trimaps/._yorkshire_terrier_130.png\nannotations/trimaps/yorkshire_terrier_130.png\nannotations/trimaps/._yorkshire_terrier_131.png\nannotations/trimaps/yorkshire_terrier_131.png\nannotations/trimaps/._yorkshire_terrier_132.png\nannotations/trimaps/yorkshire_terrier_132.png\nannotations/trimaps/._yorkshire_terrier_133.png\nannotations/trimaps/yorkshire_terrier_133.png\nannotations/trimaps/._yorkshire_terrier_134.png\nannotations/trimaps/yorkshire_terrier_134.png\nannotations/trimaps/._yorkshire_terrier_135.png\nannotations/trimaps/yorkshire_terrier_135.png\nannotations/trimaps/._yorkshire_terrier_136.png\nannotations/trimaps/yorkshire_terrier_136.png\nannotations/trimaps/._yorkshire_terrier_137.png\nannotations/trimaps/yorkshire_terrier_137.png\nannotations/trimaps/._yorkshire_terrier_138.png\nannotations/trimaps/yorkshire_terrier_138.png\nannotations/trimaps/._yorkshire_terrier_139.png\nannotations/trimaps/yorkshire_terrier_139.png\nannotations/trimaps/._yorkshire_terrier_14.png\nannotations/trimaps/yorkshire_terrier_14.png\nannotations/trimaps/._yorkshire_terrier_140.png\nannotations/trimaps/yorkshire_terrier_140.png\nannotations/trimaps/._yorkshire_terrier_141.png\nannotations/trimaps/yorkshire_terrier_141.png\nannotations/trimaps/._yorkshire_terrier_142.png\nannotations/trimaps/yorkshire_terrier_142.png\nannotations/trimaps/._yorkshire_terrier_143.png\nannotations/trimaps/yorkshire_terrier_143.png\nannotations/trimaps/._yorkshire_terrier_144.png\nannotations/trimaps/yorkshire_terrier_144.png\nannotations/trimaps/._yorkshire_terrier_145.png\nannotations/trimaps/yorkshire_terrier_145.png\nannotations/trimaps/._yorkshire_terrier_146.png\nannotations/trimaps/yorkshire_terrier_146.png\nannotations/trimaps/._yorkshire_terrier_147.png\nannotations/trimaps/yorkshire_terrier_147.png\nannotations/trimaps/._yorkshire_terrier_148.png\nannotations/trimaps/yorkshire_terrier_148.png\nannotations/trimaps/._yorkshire_terrier_149.png\nannotations/trimaps/yorkshire_terrier_149.png\nannotations/trimaps/._yorkshire_terrier_15.png\nannotations/trimaps/yorkshire_terrier_15.png\nannotations/trimaps/._yorkshire_terrier_150.png\nannotations/trimaps/yorkshire_terrier_150.png\nannotations/trimaps/._yorkshire_terrier_151.png\nannotations/trimaps/yorkshire_terrier_151.png\nannotations/trimaps/._yorkshire_terrier_152.png\nannotations/trimaps/yorkshire_terrier_152.png\nannotations/trimaps/._yorkshire_terrier_153.png\nannotations/trimaps/yorkshire_terrier_153.png\nannotations/trimaps/._yorkshire_terrier_154.png\nannotations/trimaps/yorkshire_terrier_154.png\nannotations/trimaps/._yorkshire_terrier_155.png\nannotations/trimaps/yorkshire_terrier_155.png\nannotations/trimaps/._yorkshire_terrier_156.png\nannotations/trimaps/yorkshire_terrier_156.png\nannotations/trimaps/._yorkshire_terrier_157.png\nannotations/trimaps/yorkshire_terrier_157.png\nannotations/trimaps/._yorkshire_terrier_158.png\nannotations/trimaps/yorkshire_terrier_158.png\nannotations/trimaps/._yorkshire_terrier_159.png\nannotations/trimaps/yorkshire_terrier_159.png\nannotations/trimaps/._yorkshire_terrier_16.png\nannotations/trimaps/yorkshire_terrier_16.png\nannotations/trimaps/._yorkshire_terrier_160.png\nannotations/trimaps/yorkshire_terrier_160.png\nannotations/trimaps/._yorkshire_terrier_161.png\nannotations/trimaps/yorkshire_terrier_161.png\nannotations/trimaps/._yorkshire_terrier_162.png\nannotations/trimaps/yorkshire_terrier_162.png\nannotations/trimaps/._yorkshire_terrier_163.png\nannotations/trimaps/yorkshire_terrier_163.png\nannotations/trimaps/._yorkshire_terrier_164.png\nannotations/trimaps/yorkshire_terrier_164.png\nannotations/trimaps/._yorkshire_terrier_165.png\nannotations/trimaps/yorkshire_terrier_165.png\nannotations/trimaps/._yorkshire_terrier_166.png\nannotations/trimaps/yorkshire_terrier_166.png\nannotations/trimaps/._yorkshire_terrier_167.png\nannotations/trimaps/yorkshire_terrier_167.png\nannotations/trimaps/._yorkshire_terrier_168.png\nannotations/trimaps/yorkshire_terrier_168.png\nannotations/trimaps/._yorkshire_terrier_169.png\nannotations/trimaps/yorkshire_terrier_169.png\nannotations/trimaps/._yorkshire_terrier_17.png\nannotations/trimaps/yorkshire_terrier_17.png\nannotations/trimaps/._yorkshire_terrier_170.png\nannotations/trimaps/yorkshire_terrier_170.png\nannotations/trimaps/._yorkshire_terrier_171.png\nannotations/trimaps/yorkshire_terrier_171.png\nannotations/trimaps/._yorkshire_terrier_172.png\nannotations/trimaps/yorkshire_terrier_172.png\nannotations/trimaps/._yorkshire_terrier_173.png\nannotations/trimaps/yorkshire_terrier_173.png\nannotations/trimaps/._yorkshire_terrier_174.png\nannotations/trimaps/yorkshire_terrier_174.png\nannotations/trimaps/._yorkshire_terrier_175.png\nannotations/trimaps/yorkshire_terrier_175.png\nannotations/trimaps/._yorkshire_terrier_176.png\nannotations/trimaps/yorkshire_terrier_176.png\nannotations/trimaps/._yorkshire_terrier_177.png\nannotations/trimaps/yorkshire_terrier_177.png\nannotations/trimaps/._yorkshire_terrier_178.png\nannotations/trimaps/yorkshire_terrier_178.png\nannotations/trimaps/._yorkshire_terrier_179.png\nannotations/trimaps/yorkshire_terrier_179.png\nannotations/trimaps/._yorkshire_terrier_18.png\nannotations/trimaps/yorkshire_terrier_18.png\nannotations/trimaps/._yorkshire_terrier_180.png\nannotations/trimaps/yorkshire_terrier_180.png\nannotations/trimaps/._yorkshire_terrier_181.png\nannotations/trimaps/yorkshire_terrier_181.png\nannotations/trimaps/._yorkshire_terrier_182.png\nannotations/trimaps/yorkshire_terrier_182.png\nannotations/trimaps/._yorkshire_terrier_183.png\nannotations/trimaps/yorkshire_terrier_183.png\nannotations/trimaps/._yorkshire_terrier_184.png\nannotations/trimaps/yorkshire_terrier_184.png\nannotations/trimaps/._yorkshire_terrier_185.png\nannotations/trimaps/yorkshire_terrier_185.png\nannotations/trimaps/._yorkshire_terrier_186.png\nannotations/trimaps/yorkshire_terrier_186.png\nannotations/trimaps/._yorkshire_terrier_187.png\nannotations/trimaps/yorkshire_terrier_187.png\nannotations/trimaps/._yorkshire_terrier_188.png\nannotations/trimaps/yorkshire_terrier_188.png\nannotations/trimaps/._yorkshire_terrier_189.png\nannotations/trimaps/yorkshire_terrier_189.png\nannotations/trimaps/._yorkshire_terrier_19.png\nannotations/trimaps/yorkshire_terrier_19.png\nannotations/trimaps/._yorkshire_terrier_190.png\nannotations/trimaps/yorkshire_terrier_190.png\nannotations/trimaps/._yorkshire_terrier_191.png\nannotations/trimaps/yorkshire_terrier_191.png\nannotations/trimaps/._yorkshire_terrier_192.png\nannotations/trimaps/yorkshire_terrier_192.png\nannotations/trimaps/._yorkshire_terrier_193.png\nannotations/trimaps/yorkshire_terrier_193.png\nannotations/trimaps/._yorkshire_terrier_194.png\nannotations/trimaps/yorkshire_terrier_194.png\nannotations/trimaps/._yorkshire_terrier_195.png\nannotations/trimaps/yorkshire_terrier_195.png\nannotations/trimaps/._yorkshire_terrier_196.png\nannotations/trimaps/yorkshire_terrier_196.png\nannotations/trimaps/._yorkshire_terrier_197.png\nannotations/trimaps/yorkshire_terrier_197.png\nannotations/trimaps/._yorkshire_terrier_198.png\nannotations/trimaps/yorkshire_terrier_198.png\nannotations/trimaps/._yorkshire_terrier_199.png\nannotations/trimaps/yorkshire_terrier_199.png\nannotations/trimaps/._yorkshire_terrier_2.png\nannotations/trimaps/yorkshire_terrier_2.png\nannotations/trimaps/._yorkshire_terrier_20.png\nannotations/trimaps/yorkshire_terrier_20.png\nannotations/trimaps/._yorkshire_terrier_200.png\nannotations/trimaps/yorkshire_terrier_200.png\nannotations/trimaps/._yorkshire_terrier_21.png\nannotations/trimaps/yorkshire_terrier_21.png\nannotations/trimaps/._yorkshire_terrier_22.png\nannotations/trimaps/yorkshire_terrier_22.png\nannotations/trimaps/._yorkshire_terrier_23.png\nannotations/trimaps/yorkshire_terrier_23.png\nannotations/trimaps/._yorkshire_terrier_24.png\nannotations/trimaps/yorkshire_terrier_24.png\nannotations/trimaps/._yorkshire_terrier_25.png\nannotations/trimaps/yorkshire_terrier_25.png\nannotations/trimaps/._yorkshire_terrier_26.png\nannotations/trimaps/yorkshire_terrier_26.png\nannotations/trimaps/._yorkshire_terrier_27.png\nannotations/trimaps/yorkshire_terrier_27.png\nannotations/trimaps/._yorkshire_terrier_28.png\nannotations/trimaps/yorkshire_terrier_28.png\nannotations/trimaps/._yorkshire_terrier_29.png\nannotations/trimaps/yorkshire_terrier_29.png\nannotations/trimaps/._yorkshire_terrier_3.png\nannotations/trimaps/yorkshire_terrier_3.png\nannotations/trimaps/._yorkshire_terrier_30.png\nannotations/trimaps/yorkshire_terrier_30.png\nannotations/trimaps/._yorkshire_terrier_31.png\nannotations/trimaps/yorkshire_terrier_31.png\nannotations/trimaps/._yorkshire_terrier_32.png\nannotations/trimaps/yorkshire_terrier_32.png\nannotations/trimaps/._yorkshire_terrier_33.png\nannotations/trimaps/yorkshire_terrier_33.png\nannotations/trimaps/._yorkshire_terrier_34.png\nannotations/trimaps/yorkshire_terrier_34.png\nannotations/trimaps/._yorkshire_terrier_35.png\nannotations/trimaps/yorkshire_terrier_35.png\nannotations/trimaps/._yorkshire_terrier_36.png\nannotations/trimaps/yorkshire_terrier_36.png\nannotations/trimaps/._yorkshire_terrier_37.png\nannotations/trimaps/yorkshire_terrier_37.png\nannotations/trimaps/._yorkshire_terrier_38.png\nannotations/trimaps/yorkshire_terrier_38.png\nannotations/trimaps/._yorkshire_terrier_39.png\nannotations/trimaps/yorkshire_terrier_39.png\nannotations/trimaps/._yorkshire_terrier_4.png\nannotations/trimaps/yorkshire_terrier_4.png\nannotations/trimaps/._yorkshire_terrier_40.png\nannotations/trimaps/yorkshire_terrier_40.png\nannotations/trimaps/._yorkshire_terrier_41.png\nannotations/trimaps/yorkshire_terrier_41.png\nannotations/trimaps/._yorkshire_terrier_42.png\nannotations/trimaps/yorkshire_terrier_42.png\nannotations/trimaps/._yorkshire_terrier_43.png\nannotations/trimaps/yorkshire_terrier_43.png\nannotations/trimaps/._yorkshire_terrier_44.png\nannotations/trimaps/yorkshire_terrier_44.png\nannotations/trimaps/._yorkshire_terrier_45.png\nannotations/trimaps/yorkshire_terrier_45.png\nannotations/trimaps/._yorkshire_terrier_46.png\nannotations/trimaps/yorkshire_terrier_46.png\nannotations/trimaps/._yorkshire_terrier_47.png\nannotations/trimaps/yorkshire_terrier_47.png\nannotations/trimaps/._yorkshire_terrier_48.png\nannotations/trimaps/yorkshire_terrier_48.png\nannotations/trimaps/._yorkshire_terrier_49.png\nannotations/trimaps/yorkshire_terrier_49.png\nannotations/trimaps/._yorkshire_terrier_5.png\nannotations/trimaps/yorkshire_terrier_5.png\nannotations/trimaps/._yorkshire_terrier_50.png\nannotations/trimaps/yorkshire_terrier_50.png\nannotations/trimaps/._yorkshire_terrier_51.png\nannotations/trimaps/yorkshire_terrier_51.png\nannotations/trimaps/._yorkshire_terrier_52.png\nannotations/trimaps/yorkshire_terrier_52.png\nannotations/trimaps/._yorkshire_terrier_53.png\nannotations/trimaps/yorkshire_terrier_53.png\nannotations/trimaps/._yorkshire_terrier_54.png\nannotations/trimaps/yorkshire_terrier_54.png\nannotations/trimaps/._yorkshire_terrier_55.png\nannotations/trimaps/yorkshire_terrier_55.png\nannotations/trimaps/._yorkshire_terrier_56.png\nannotations/trimaps/yorkshire_terrier_56.png\nannotations/trimaps/._yorkshire_terrier_57.png\nannotations/trimaps/yorkshire_terrier_57.png\nannotations/trimaps/._yorkshire_terrier_58.png\nannotations/trimaps/yorkshire_terrier_58.png\nannotations/trimaps/._yorkshire_terrier_59.png\nannotations/trimaps/yorkshire_terrier_59.png\nannotations/trimaps/._yorkshire_terrier_6.png\nannotations/trimaps/yorkshire_terrier_6.png\nannotations/trimaps/._yorkshire_terrier_60.png\nannotations/trimaps/yorkshire_terrier_60.png\nannotations/trimaps/._yorkshire_terrier_61.png\nannotations/trimaps/yorkshire_terrier_61.png\nannotations/trimaps/._yorkshire_terrier_62.png\nannotations/trimaps/yorkshire_terrier_62.png\nannotations/trimaps/._yorkshire_terrier_63.png\nannotations/trimaps/yorkshire_terrier_63.png\nannotations/trimaps/._yorkshire_terrier_64.png\nannotations/trimaps/yorkshire_terrier_64.png\nannotations/trimaps/._yorkshire_terrier_65.png\nannotations/trimaps/yorkshire_terrier_65.png\nannotations/trimaps/._yorkshire_terrier_66.png\nannotations/trimaps/yorkshire_terrier_66.png\nannotations/trimaps/._yorkshire_terrier_67.png\nannotations/trimaps/yorkshire_terrier_67.png\nannotations/trimaps/._yorkshire_terrier_68.png\nannotations/trimaps/yorkshire_terrier_68.png\nannotations/trimaps/._yorkshire_terrier_69.png\nannotations/trimaps/yorkshire_terrier_69.png\nannotations/trimaps/._yorkshire_terrier_7.png\nannotations/trimaps/yorkshire_terrier_7.png\nannotations/trimaps/._yorkshire_terrier_70.png\nannotations/trimaps/yorkshire_terrier_70.png\nannotations/trimaps/._yorkshire_terrier_71.png\nannotations/trimaps/yorkshire_terrier_71.png\nannotations/trimaps/._yorkshire_terrier_72.png\nannotations/trimaps/yorkshire_terrier_72.png\nannotations/trimaps/._yorkshire_terrier_73.png\nannotations/trimaps/yorkshire_terrier_73.png\nannotations/trimaps/._yorkshire_terrier_74.png\nannotations/trimaps/yorkshire_terrier_74.png\nannotations/trimaps/._yorkshire_terrier_75.png\nannotations/trimaps/yorkshire_terrier_75.png\nannotations/trimaps/._yorkshire_terrier_76.png\nannotations/trimaps/yorkshire_terrier_76.png\nannotations/trimaps/._yorkshire_terrier_77.png\nannotations/trimaps/yorkshire_terrier_77.png\nannotations/trimaps/._yorkshire_terrier_78.png\nannotations/trimaps/yorkshire_terrier_78.png\nannotations/trimaps/._yorkshire_terrier_79.png\nannotations/trimaps/yorkshire_terrier_79.png\nannotations/trimaps/._yorkshire_terrier_8.png\nannotations/trimaps/yorkshire_terrier_8.png\nannotations/trimaps/._yorkshire_terrier_80.png\nannotations/trimaps/yorkshire_terrier_80.png\nannotations/trimaps/._yorkshire_terrier_81.png\nannotations/trimaps/yorkshire_terrier_81.png\nannotations/trimaps/._yorkshire_terrier_82.png\nannotations/trimaps/yorkshire_terrier_82.png\nannotations/trimaps/._yorkshire_terrier_83.png\nannotations/trimaps/yorkshire_terrier_83.png\nannotations/trimaps/._yorkshire_terrier_84.png\nannotations/trimaps/yorkshire_terrier_84.png\nannotations/trimaps/._yorkshire_terrier_85.png\nannotations/trimaps/yorkshire_terrier_85.png\nannotations/trimaps/._yorkshire_terrier_86.png\nannotations/trimaps/yorkshire_terrier_86.png\nannotations/trimaps/._yorkshire_terrier_87.png\nannotations/trimaps/yorkshire_terrier_87.png\nannotations/trimaps/._yorkshire_terrier_88.png\nannotations/trimaps/yorkshire_terrier_88.png\nannotations/trimaps/._yorkshire_terrier_89.png\nannotations/trimaps/yorkshire_terrier_89.png\nannotations/trimaps/._yorkshire_terrier_9.png\nannotations/trimaps/yorkshire_terrier_9.png\nannotations/trimaps/._yorkshire_terrier_90.png\nannotations/trimaps/yorkshire_terrier_90.png\nannotations/trimaps/._yorkshire_terrier_91.png\nannotations/trimaps/yorkshire_terrier_91.png\nannotations/trimaps/._yorkshire_terrier_92.png\nannotations/trimaps/yorkshire_terrier_92.png\nannotations/trimaps/._yorkshire_terrier_93.png\nannotations/trimaps/yorkshire_terrier_93.png\nannotations/trimaps/._yorkshire_terrier_94.png\nannotations/trimaps/yorkshire_terrier_94.png\nannotations/trimaps/._yorkshire_terrier_95.png\nannotations/trimaps/yorkshire_terrier_95.png\nannotations/trimaps/._yorkshire_terrier_96.png\nannotations/trimaps/yorkshire_terrier_96.png\nannotations/trimaps/._yorkshire_terrier_97.png\nannotations/trimaps/yorkshire_terrier_97.png\nannotations/trimaps/._yorkshire_terrier_98.png\nannotations/trimaps/yorkshire_terrier_98.png\nannotations/trimaps/._yorkshire_terrier_99.png\nannotations/trimaps/yorkshire_terrier_99.png\n"
    }
   ],
   "source": [
    "# 下載資料\n",
    "!wget http://www.robots.ox.ac.uk/~vgg/data/pets/data/images.tar.gz\n",
    "!wget http://www.robots.ox.ac.uk/~vgg/data/pets/data/annotations.tar.gz\n",
    "# 解壓縮\n",
    "!tar -xvf images.tar.gz\n",
    "!tar -xvf annotations.tar.gz"
   ]
  },
  {
   "cell_type": "code",
   "execution_count": 11,
   "metadata": {
    "tags": []
   },
   "outputs": [
    {
     "output_type": "stream",
     "name": "stdout",
     "text": "I0807 16:21:00.055712 139944380065600 create_pet_tf_record.py:273] Reading from Pet dataset.\nI0807 16:21:00.064566 139944380065600 create_pet_tf_record.py:288] 2576 training and 1104 validation examples.\nI0807 16:21:00.064963 139944380065600 create_pet_tf_record.py:241] On image 0 of 2576\nI0807 16:21:00.208813 139944380065600 create_pet_tf_record.py:241] On image 100 of 2576\nI0807 16:21:00.348456 139944380065600 create_pet_tf_record.py:241] On image 200 of 2576\nI0807 16:21:00.485131 139944380065600 create_pet_tf_record.py:241] On image 300 of 2576\nI0807 16:21:00.633346 139944380065600 create_pet_tf_record.py:241] On image 400 of 2576\nI0807 16:21:00.767741 139944380065600 create_pet_tf_record.py:241] On image 500 of 2576\nW0807 16:21:00.865616 139944380065600 create_pet_tf_record.py:246] Could not find annotations/xmls/Egyptian_Mau_14.xml, ignoring example.\nW0807 16:21:00.888195 139944380065600 create_pet_tf_record.py:246] Could not find annotations/xmls/saint_bernard_15.xml, ignoring example.\nI0807 16:21:00.903533 139944380065600 create_pet_tf_record.py:241] On image 600 of 2576\nW0807 16:21:00.909315 139944380065600 create_pet_tf_record.py:246] Could not find annotations/xmls/Ragdoll_199.xml, ignoring example.\nI0807 16:21:01.040318 139944380065600 create_pet_tf_record.py:241] On image 700 of 2576\nI0807 16:21:01.183105 139944380065600 create_pet_tf_record.py:241] On image 800 of 2576\nI0807 16:21:01.312863 139944380065600 create_pet_tf_record.py:241] On image 900 of 2576\nI0807 16:21:01.448126 139944380065600 create_pet_tf_record.py:241] On image 1000 of 2576\nI0807 16:21:01.582859 139944380065600 create_pet_tf_record.py:241] On image 1100 of 2576\nI0807 16:21:01.727855 139944380065600 create_pet_tf_record.py:241] On image 1200 of 2576\nI0807 16:21:01.864555 139944380065600 create_pet_tf_record.py:241] On image 1300 of 2576\nI0807 16:21:02.037024 139944380065600 create_pet_tf_record.py:241] On image 1400 of 2576\nW0807 16:21:02.109739 139944380065600 create_pet_tf_record.py:246] Could not find annotations/xmls/Egyptian_Mau_186.xml, ignoring example.\nI0807 16:21:02.173279 139944380065600 create_pet_tf_record.py:241] On image 1500 of 2576\nW0807 16:21:02.265693 139944380065600 create_pet_tf_record.py:246] Could not find annotations/xmls/Bengal_175.xml, ignoring example.\nI0807 16:21:02.310601 139944380065600 create_pet_tf_record.py:241] On image 1600 of 2576\nI0807 16:21:02.444772 139944380065600 create_pet_tf_record.py:241] On image 1700 of 2576\nW0807 16:21:02.529202 139944380065600 create_pet_tf_record.py:246] Could not find annotations/xmls/samoyed_10.xml, ignoring example.\nI0807 16:21:02.578535 139944380065600 create_pet_tf_record.py:241] On image 1800 of 2576\nI0807 16:21:02.722330 139944380065600 create_pet_tf_record.py:241] On image 1900 of 2576\nI0807 16:21:02.852588 139944380065600 create_pet_tf_record.py:241] On image 2000 of 2576\nI0807 16:21:02.991117 139944380065600 create_pet_tf_record.py:241] On image 2100 of 2576\nW0807 16:21:03.039556 139944380065600 create_pet_tf_record.py:246] Could not find annotations/xmls/Egyptian_Mau_156.xml, ignoring example.\nI0807 16:21:03.131423 139944380065600 create_pet_tf_record.py:241] On image 2200 of 2576\nI0807 16:21:03.271859 139944380065600 create_pet_tf_record.py:241] On image 2300 of 2576\nI0807 16:21:03.403245 139944380065600 create_pet_tf_record.py:241] On image 2400 of 2576\nI0807 16:21:03.544309 139944380065600 create_pet_tf_record.py:241] On image 2500 of 2576\nW0807 16:21:03.618666 139944380065600 create_pet_tf_record.py:246] Could not find annotations/xmls/Abyssinian_104.xml, ignoring example.\nI0807 16:21:03.659466 139944380065600 create_pet_tf_record.py:241] On image 0 of 1104\nI0807 16:21:03.794235 139944380065600 create_pet_tf_record.py:241] On image 100 of 1104\nI0807 16:21:03.931111 139944380065600 create_pet_tf_record.py:241] On image 200 of 1104\nI0807 16:21:04.067493 139944380065600 create_pet_tf_record.py:241] On image 300 of 1104\nI0807 16:21:04.214062 139944380065600 create_pet_tf_record.py:241] On image 400 of 1104\nI0807 16:21:04.347808 139944380065600 create_pet_tf_record.py:241] On image 500 of 1104\nI0807 16:21:04.490099 139944380065600 create_pet_tf_record.py:241] On image 600 of 1104\nI0807 16:21:04.626196 139944380065600 create_pet_tf_record.py:241] On image 700 of 1104\nI0807 16:21:04.781540 139944380065600 create_pet_tf_record.py:241] On image 800 of 1104\nW0807 16:21:04.849409 139944380065600 create_pet_tf_record.py:246] Could not find annotations/xmls/Bengal_111.xml, ignoring example.\nI0807 16:21:04.934723 139944380065600 create_pet_tf_record.py:241] On image 900 of 1104\nI0807 16:21:05.072232 139944380065600 create_pet_tf_record.py:241] On image 1000 of 1104\nI0807 16:21:05.208437 139944380065600 create_pet_tf_record.py:241] On image 1100 of 1104\npet_faces_train.record-00000-of-00010  pet_faces_val.record-00000-of-00010\npet_faces_train.record-00001-of-00010  pet_faces_val.record-00001-of-00010\npet_faces_train.record-00002-of-00010  pet_faces_val.record-00002-of-00010\npet_faces_train.record-00003-of-00010  pet_faces_val.record-00003-of-00010\npet_faces_train.record-00004-of-00010  pet_faces_val.record-00004-of-00010\npet_faces_train.record-00005-of-00010  pet_faces_val.record-00005-of-00010\npet_faces_train.record-00006-of-00010  pet_faces_val.record-00006-of-00010\npet_faces_train.record-00007-of-00010  pet_faces_val.record-00007-of-00010\npet_faces_train.record-00008-of-00010  pet_faces_val.record-00008-of-00010\npet_faces_train.record-00009-of-00010  pet_faces_val.record-00009-of-00010\n"
    }
   ],
   "source": [
    "import os \n",
    "!python /home/rico-li/Job/1st-DL-CVMarathon_Rico/電腦視覺深度學習基礎/models/research/object_detection/dataset_tools/create_pet_tf_record.py \\\n",
    " --label_map_path=/home/rico-li/Job/1st-DL-CVMarathon_Rico/電腦視覺深度學習基礎/models/research/object_detection/data/pet_label_map.pbtxt \\\n",
    " --data_dir= /home/rico-li/Job/1st-DL-CVMarathon_Rico/電腦視覺深度學習基礎/models/research \\\n",
    " --output_dir= /home/rico-li/Job/1st-DL-CVMarathon_Rico/電腦視覺深度學習基礎/models/research\n",
    "!ls *.record*"
   ]
  },
  {
   "cell_type": "markdown",
   "metadata": {},
   "source": [
    "# 到 [model zoo](https://github.com/tensorflow/models/blob/master/research/object_detection/g3doc/detection_model_zoo.md) 下載 ssd_mobilenet_v1_coco 預訓練模型權重\n",
    "\n",
    "- 此範例以 ssd_mobilenet_v1 作參考，可以試用別的 (如 ssd_mobilenet_v2)"
   ]
  },
  {
   "cell_type": "code",
   "execution_count": 12,
   "metadata": {
    "tags": []
   },
   "outputs": [
    {
     "output_type": "stream",
     "name": "stdout",
     "text": "--2020-08-07 16:21:16--  http://storage.googleapis.com/download.tensorflow.org/models/object_detection/ssd_mobilenet_v1_coco_2018_01_28.tar.gz\nResolving storage.googleapis.com (storage.googleapis.com)... 216.58.200.240, 172.217.160.80, 172.217.27.144, ...\nConnecting to storage.googleapis.com (storage.googleapis.com)|216.58.200.240|:80... connected.\nHTTP request sent, awaiting response...200 OK\nLength: 76541073 (73M) [application/x-tar]\nSaving to: ‘ssd_mobilenet_v1_coco_2018_01_28.tar.gz’\n\nssd_mobilenet_v1_co 100%[===================>]  73.00M  11.2MB/s    in 7.7s    \n\n2020-08-07 16:21:24 (9.50 MB/s) - ‘ssd_mobilenet_v1_coco_2018_01_28.tar.gz’ saved [76541073/76541073]\n\nssd_mobilenet_v1_coco_2018_01_28/\nssd_mobilenet_v1_coco_2018_01_28/model.ckpt.index\nssd_mobilenet_v1_coco_2018_01_28/checkpoint\nssd_mobilenet_v1_coco_2018_01_28/pipeline.config\nssd_mobilenet_v1_coco_2018_01_28/model.ckpt.data-00000-of-00001\nssd_mobilenet_v1_coco_2018_01_28/model.ckpt.meta\nssd_mobilenet_v1_coco_2018_01_28/saved_model/\nssd_mobilenet_v1_coco_2018_01_28/saved_model/saved_model.pb\nssd_mobilenet_v1_coco_2018_01_28/saved_model/variables/\nssd_mobilenet_v1_coco_2018_01_28/frozen_inference_graph.pb\n"
    }
   ],
   "source": [
    "# 下載模型權重\n",
    "!wget http://storage.googleapis.com/download.tensorflow.org/models/object_detection/ssd_mobilenet_v1_coco_2018_01_28.tar.gz\n",
    "# 解壓縮\n",
    "!tar -xvf ssd_mobilenet_v1_coco_2018_01_28.tar.gz\n",
    "!cp ssd_mobilenet_v1_coco_2018_01_28/model.ckpt.* ."
   ]
  },
  {
   "cell_type": "markdown",
   "metadata": {},
   "source": [
    "# 調整訓練設定及超參數\n",
    "\n",
    "- 設定檔皆在 object_detection/samples/configs/ 裡，選擇對應的模型設定檔\n",
    "- 此範例為了簡化，故用指令對設定檔作調整，實際上可以直接打開檔案作調整\n",
    "- 一些必備的調整如\n",
    "    - `PATH_TO_BE_CONFIGURED` 為調整檔案路徑位置\n",
    "    - `mscoco_label_map.pbtxt` & `mscoco_train.record` & `mscoco_val.record` 為調整資料集\n",
    "- 其他超參數也可以作調整，是需求而定"
   ]
  },
  {
   "cell_type": "code",
   "execution_count": 14,
   "metadata": {
    "tags": []
   },
   "outputs": [],
   "source": [
    "!cp /home/rico-li/Job/1st-DL-CVMarathon_Rico/電腦視覺深度學習基礎/models/research/object_detection/samples/configs/ssd_mobilenet_v1_coco.config .\n",
    "# 修改檔案位置\n",
    "!sed -i \"s|/home/rico-li/Job/1st-DL-CVMarathon_Rico/電腦視覺深度學習基礎|\\.|g\" ssd_mobilenet_v1_coco.config\n",
    "# 修改資料集\n",
    "!sed -i \"s|mscoco_label_map.pbtxt|object_detection/data/pet_label_map.pbtxt|g\" ssd_mobilenet_v1_coco.config\n",
    "!sed -i \"s|mscoco_train.record|pet_faces_train.record|g\" ssd_mobilenet_v1_coco.config\n",
    "!sed -i \"s|mscoco_val.record|pet_faces_val.record|g\" ssd_mobilenet_v1_coco.config\n",
    "# 由於 pets 最終只會產生 10 份 tfrecord, 因此這裏稍作修改\n",
    "!sed -i \"s|00100|00010|g\" ssd_mobilenet_v1_coco.config"
   ]
  },
  {
   "cell_type": "markdown",
   "metadata": {},
   "source": [
    "# 執行訓練"
   ]
  },
  {
   "cell_type": "code",
   "execution_count": 5,
   "metadata": {
    "tags": []
   },
   "outputs": [
    {
     "output_type": "error",
     "ename": "ModuleNotFoundError",
     "evalue": "No module named 'official.mnist'",
     "traceback": [
      "\u001b[0;31m---------------------------------------------------------------------------\u001b[0m",
      "\u001b[0;31mModuleNotFoundError\u001b[0m                       Traceback (most recent call last)",
      "\u001b[0;32m<ipython-input-5-c8a412a69b70>\u001b[0m in \u001b[0;36m<module>\u001b[0;34m\u001b[0m\n\u001b[1;32m      9\u001b[0m \u001b[0;34m\u001b[0m\u001b[0m\n\u001b[1;32m     10\u001b[0m \u001b[0;31m# sys.path.append(\"/home/rico-li/Job/1st-DL-CVMarathon_Rico/電腦視覺深度學習基礎/models/official\")\u001b[0m\u001b[0;34m\u001b[0m\u001b[0;34m\u001b[0m\u001b[0;34m\u001b[0m\u001b[0m\n\u001b[0;32m---> 11\u001b[0;31m \u001b[0;32mfrom\u001b[0m \u001b[0mofficial\u001b[0m\u001b[0;34m.\u001b[0m\u001b[0mmnist\u001b[0m \u001b[0;32mimport\u001b[0m \u001b[0mdataset\u001b[0m\u001b[0;34m\u001b[0m\u001b[0;34m\u001b[0m\u001b[0m\n\u001b[0m\u001b[1;32m     12\u001b[0m \u001b[0;34m\u001b[0m\u001b[0m\n\u001b[1;32m     13\u001b[0m \u001b[0mget_ipython\u001b[0m\u001b[0;34m(\u001b[0m\u001b[0;34m)\u001b[0m\u001b[0;34m.\u001b[0m\u001b[0msystem\u001b[0m\u001b[0;34m(\u001b[0m\u001b[0;34m'python /home/rico-li/Job/1st-DL-CVMarathon_Rico/電腦視覺深度學習基礎/models/research/object_detection/model_main.py   --logtostderr   --pipeline_config_path=ssd_mobilenet_v1_coco.config   --train_dir=train'\u001b[0m\u001b[0;34m)\u001b[0m\u001b[0;34m\u001b[0m\u001b[0;34m\u001b[0m\u001b[0m\n",
      "\u001b[0;31mModuleNotFoundError\u001b[0m: No module named 'official.mnist'"
     ]
    }
   ],
   "source": [
    "import sys\n",
    "# sys.path.append(os.getcwd())\n",
    "# %set_env PYTHONPATH=/home/rico-li/Job/1st-DL-CVMarathon_Rico/電腦視覺深度學習基礎\\ /home/rico-li/Job/1st-DL-CVMarathon_Rico/電腦視覺深度學習基礎/models/research:/home/rico-li/Job/1st-DL-CVMarathon_Rico/電腦視覺深度學習基礎 \\/home/rico-li/Job/1st-DL-CVMarathon_Rico/電腦視覺深度學習基礎/models/research/slim\n",
    "\n",
    "# !export PYTHONPATH=$PYTHONPATH:/home/rico-li/Job/1st-DL-CVMarathon_Rico/電腦視覺深度學習基礎/models\n",
    "\n",
    "os.environ['PYTHONPATH'] += \":/models\"\n",
    "sys.path.append(\"/models\")\n",
    "\n",
    "# sys.path.append(\"/home/rico-li/Job/1st-DL-CVMarathon_Rico/電腦視覺深度學習基礎/models/official\")\n",
    "from official.mnist import dataset\n",
    "\n",
    "!python /home/rico-li/Job/1st-DL-CVMarathon_Rico/電腦視覺深度學習基礎/models/research/object_detection/model_main.py \\\n",
    " --logtostderr \\\n",
    " --pipeline_config_path=ssd_mobilenet_v1_coco.config \\\n",
    " --train_dir=train"
   ]
  },
  {
   "cell_type": "code",
   "execution_count": 3,
   "metadata": {
    "tags": []
   },
   "outputs": [
    {
     "output_type": "stream",
     "name": "stdout",
     "text": "/home/rico-li/Job/1st-DL-CVMarathon_Rico/電腦視覺深度學習基礎\n"
    }
   ],
   "source": [
    "!pwd"
   ]
  },
  {
   "cell_type": "code",
   "execution_count": null,
   "metadata": {},
   "outputs": [],
   "source": []
  }
 ],
 "metadata": {
  "kernelspec": {
   "display_name": "Python 3",
   "language": "python",
   "name": "python3"
  },
  "language_info": {
   "codemirror_mode": {
    "name": "ipython",
    "version": 3
   },
   "file_extension": ".py",
   "mimetype": "text/x-python",
   "name": "python",
   "nbconvert_exporter": "python",
   "pygments_lexer": "ipython3",
   "version": "3.7.6-final"
  }
 },
 "nbformat": 4,
 "nbformat_minor": 1
}